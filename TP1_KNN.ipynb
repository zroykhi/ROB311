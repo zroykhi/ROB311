{
 "cells": [
  {
   "cell_type": "markdown",
   "metadata": {},
   "source": [
    "# ROB311 TP1\n",
    "**Use KNN algorithm to detect breast cancer and haberman's survival possibility**\n",
    "\n",
    "*Authors: Simon QUEYRUT, Zhi ZHOU*"
   ]
  },
  {
   "cell_type": "code",
   "execution_count": 10,
   "metadata": {},
   "outputs": [
    {
     "data": {
      "text/html": [
       "<div>\n",
       "<style scoped>\n",
       "    .dataframe tbody tr th:only-of-type {\n",
       "        vertical-align: middle;\n",
       "    }\n",
       "\n",
       "    .dataframe tbody tr th {\n",
       "        vertical-align: top;\n",
       "    }\n",
       "\n",
       "    .dataframe thead th {\n",
       "        text-align: right;\n",
       "    }\n",
       "</style>\n",
       "<table border=\"1\" class=\"dataframe\">\n",
       "  <thead>\n",
       "    <tr style=\"text-align: right;\">\n",
       "      <th></th>\n",
       "      <th>radius</th>\n",
       "      <th>texture</th>\n",
       "      <th>perimeter</th>\n",
       "      <th>area</th>\n",
       "      <th>smoothness</th>\n",
       "      <th>compactness</th>\n",
       "      <th>concavity</th>\n",
       "      <th>concave points</th>\n",
       "      <th>symmetry</th>\n",
       "      <th>Class</th>\n",
       "    </tr>\n",
       "  </thead>\n",
       "  <tbody>\n",
       "    <tr>\n",
       "      <td>1000025</td>\n",
       "      <td>5</td>\n",
       "      <td>1</td>\n",
       "      <td>1</td>\n",
       "      <td>1</td>\n",
       "      <td>2</td>\n",
       "      <td>1</td>\n",
       "      <td>3</td>\n",
       "      <td>1</td>\n",
       "      <td>1</td>\n",
       "      <td>2</td>\n",
       "    </tr>\n",
       "    <tr>\n",
       "      <td>1002945</td>\n",
       "      <td>5</td>\n",
       "      <td>4</td>\n",
       "      <td>4</td>\n",
       "      <td>5</td>\n",
       "      <td>7</td>\n",
       "      <td>10</td>\n",
       "      <td>3</td>\n",
       "      <td>2</td>\n",
       "      <td>1</td>\n",
       "      <td>2</td>\n",
       "    </tr>\n",
       "    <tr>\n",
       "      <td>1015425</td>\n",
       "      <td>3</td>\n",
       "      <td>1</td>\n",
       "      <td>1</td>\n",
       "      <td>1</td>\n",
       "      <td>2</td>\n",
       "      <td>2</td>\n",
       "      <td>3</td>\n",
       "      <td>1</td>\n",
       "      <td>1</td>\n",
       "      <td>2</td>\n",
       "    </tr>\n",
       "    <tr>\n",
       "      <td>1016277</td>\n",
       "      <td>6</td>\n",
       "      <td>8</td>\n",
       "      <td>8</td>\n",
       "      <td>1</td>\n",
       "      <td>3</td>\n",
       "      <td>4</td>\n",
       "      <td>3</td>\n",
       "      <td>7</td>\n",
       "      <td>1</td>\n",
       "      <td>2</td>\n",
       "    </tr>\n",
       "    <tr>\n",
       "      <td>1017023</td>\n",
       "      <td>4</td>\n",
       "      <td>1</td>\n",
       "      <td>1</td>\n",
       "      <td>3</td>\n",
       "      <td>2</td>\n",
       "      <td>1</td>\n",
       "      <td>3</td>\n",
       "      <td>1</td>\n",
       "      <td>1</td>\n",
       "      <td>2</td>\n",
       "    </tr>\n",
       "  </tbody>\n",
       "</table>\n",
       "</div>"
      ],
      "text/plain": [
       "         radius  texture  perimeter  area  smoothness compactness  concavity  \\\n",
       "1000025       5        1          1     1           2           1          3   \n",
       "1002945       5        4          4     5           7          10          3   \n",
       "1015425       3        1          1     1           2           2          3   \n",
       "1016277       6        8          8     1           3           4          3   \n",
       "1017023       4        1          1     3           2           1          3   \n",
       "\n",
       "         concave points  symmetry  Class  \n",
       "1000025               1         1      2  \n",
       "1002945               2         1      2  \n",
       "1015425               1         1      2  \n",
       "1016277               7         1      2  \n",
       "1017023               1         1      2  "
      ]
     },
     "execution_count": 10,
     "metadata": {},
     "output_type": "execute_result"
    }
   ],
   "source": [
    "import numpy as np\n",
    "import matplotlib.pyplot as plt\n",
    "import pandas as pd\n",
    "import operator\n",
    "import sklearn\n",
    "import itertools\n",
    "from sklearn.metrics import confusion_matrix\n",
    "from sklearn.model_selection import train_test_split\n",
    "\n",
    "# Assign colum names to the dataset\n",
    "colum_names = ['radius', 'texture', 'perimeter', 'area', 'smoothness',\n",
    "         'compactness', 'concavity', 'concave points', 'symmetry', 'Class']\n",
    "\n",
    "data_path = \"./breast-cancer-wisconsin.data\"\n",
    "\n",
    "# Read dataset to pandas dataframe\n",
    "dataset = pd.read_csv(data_path, names=colum_names)\n",
    "\n",
    "# display example data\n",
    "dataset.head()"
   ]
  },
  {
   "cell_type": "code",
   "execution_count": 11,
   "metadata": {},
   "outputs": [
    {
     "name": "stdout",
     "output_type": "stream",
     "text": [
      "training data size:  (559, 9)\n",
      "test data size:  (140, 9)\n"
     ]
    },
    {
     "data": {
      "text/plain": [
       "array([[7, 8, 3, ..., 7, 8, 2],\n",
       "       [1, 1, 1, ..., 1, 1, 1],\n",
       "       [5, 4, 3, ..., 2, 3, 1],\n",
       "       ...,\n",
       "       [5, 1, 1, ..., 1, 1, 1],\n",
       "       [5, 2, 2, ..., 1, 3, 1],\n",
       "       [4, 1, 1, ..., 1, 1, 1]], dtype=object)"
      ]
     },
     "execution_count": 11,
     "metadata": {},
     "output_type": "execute_result"
    }
   ],
   "source": [
    "# split features and labels apart\n",
    "X = dataset.iloc[:, :-1].values\n",
    "y = dataset.iloc[:, -1].values\n",
    "\n",
    "# split up training data and test data, 80% of the data used for train and 20% used for test\n",
    "X_train, X_test, y_train, y_test = train_test_split(X, y, random_state=42, stratify=y, test_size=0.2)\n",
    "\n",
    "print('training data size: ', X_train.shape)\n",
    "X_train\n",
    "print('test data size: ', X_test.shape)\n",
    "X_test"
   ]
  },
  {
   "cell_type": "code",
   "execution_count": 12,
   "metadata": {},
   "outputs": [],
   "source": [
    "# function used for calculating euclidean distance\n",
    "def euclidian_distance(X_test, X_train, length):  \n",
    "    \"\"\"\n",
    "    Args:\n",
    "        X_test:\n",
    "        X_train:\n",
    "        length:\n",
    "\n",
    "    Returns:\n",
    "        euclidean distance \n",
    "    \"\"\"\n",
    "    distance = 0\n",
    "    for x in range(length):\n",
    "        x_test_x = X_test[x]\n",
    "        x_train_x = X_train[x]\n",
    "\n",
    "        if x_train_x == '?':\n",
    "            x_train_x = 0\n",
    "        if x_test_x == '?':\n",
    "            x_test_x = 0\n",
    "        distance += np.square(int(x_test_x) - int(x_train_x))\n",
    "    return np.sqrt(distance)"
   ]
  },
  {
   "cell_type": "code",
   "execution_count": 13,
   "metadata": {},
   "outputs": [],
   "source": [
    "distance_list = []     # a list used to store all the distances calculated\n",
    "class_list = []        # a list used to store all predicted classification result\n",
    "K = 10                 # define K parameter\n",
    "test_sample_index = 0  # index of current test sample\n",
    "\n",
    "for test_sample in X_test:\n",
    "    distance_list.append([])\n",
    "    for train_data in X_train:\n",
    "        distance_list[test_sample_index].append(euclidian_distance(test_sample, train_data, 9))\n",
    "    y_train_copy = list(y_train.copy())  # making a copy to save original from deterioration\n",
    "    sorted_distance_list, sorted_y_train_copy = \\\n",
    "        (list(t) for t in zip(*sorted(zip(distance_list[test_sample_index], y_train_copy))))\n",
    "    res = max(set(sorted_y_train_copy[:K]), key=sorted_y_train_copy[:K].count)\n",
    "    class_list.append(res)\n",
    "    test_sample_index += 1"
   ]
  },
  {
   "cell_type": "code",
   "execution_count": 14,
   "metadata": {},
   "outputs": [
    {
     "name": "stdout",
     "output_type": "stream",
     "text": [
      "Normalized confusion matrix\n",
      "[[0.9673913  0.0326087 ]\n",
      " [0.08333333 0.91666667]]\n"
     ]
    },
    {
     "data": {
      "image/png": "[encoded data removed]",
      "text/plain": [
       "<Figure size 432x288 with 2 Axes>"
      ]
     },
     "metadata": {
      "needs_background": "light"
     },
     "output_type": "display_data"
    }
   ],
   "source": [
    "def plot_confusion_matrix(cm, classes,\n",
    "                          normalize=False,\n",
    "                          title='Confusion matrix',\n",
    "                          cmap=plt.cm.Blues):\n",
    "    \"\"\"\n",
    "    This function prints and plots the confusion matrix.\n",
    "    Normalization can be applied by setting `normalize=True`.\n",
    "    \"\"\"\n",
    "    if normalize:\n",
    "        cm = cm.astype('float') / cm.sum(axis=1)[:, np.newaxis]\n",
    "        print(\"Normalized confusion matrix\")\n",
    "    else:\n",
    "        print('Confusion matrix, without normalization')\n",
    "\n",
    "    print(cm)\n",
    "\n",
    "    plt.imshow(cm, interpolation='nearest', cmap=cmap)\n",
    "    plt.title(title)\n",
    "    plt.colorbar()\n",
    "    tick_marks = np.arange(len(classes))\n",
    "    plt.xticks(tick_marks, classes, rotation=45)\n",
    "    plt.yticks(tick_marks, classes)\n",
    "\n",
    "    fmt = '.2f' if normalize else 'd'\n",
    "    thresh = cm.max() / 2.\n",
    "    for i, j in itertools.product(range(cm.shape[0]), range(cm.shape[1])):\n",
    "        plt.text(j, i, format(cm[i, j], fmt),\n",
    "                 horizontalalignment=\"center\",\n",
    "                 verticalalignment='top',\n",
    "                 color=\"white\" if cm[i, j] > thresh else \"black\")\n",
    "\n",
    "    plt.tight_layout()\n",
    "\n",
    "    plt.ylabel('True label')\n",
    "    plt.xlabel('Predicted label')\n",
    "    plt.show()  \n",
    "    \n",
    "cm = confusion_matrix(y_test, class_list)\n",
    "class_names = ['Good', 'Bad']\n",
    "plot_confusion_matrix(cm, classes=class_names, normalize=True,title='Normalized Confusion Matrix')"
   ]
  },
  {
   "cell_type": "markdown",
   "metadata": {},
   "source": [
    "1. Load the Data.\n",
    "2. Initialize the value of K.\n",
    "3. For predicting the output class for the test data, iterate from 1st data\n",
    "point to the total number of data points.\n",
    " - Calculate distance between test data and each row of training data by the\n",
    "help of euclidean distance.\n",
    " - Sort the calculated distance in ascending order.\n",
    " - Get the top K rows from the sorted array.\n",
    " - Now find out the most frequent class of the rows.\n",
    " - Return the predicted class for the test data."
   ]
  },
  {
   "cell_type": "code",
   "execution_count": 15,
   "metadata": {},
   "outputs": [
    {
     "data": {
      "text/html": [
       "<div>\n",
       "<style scoped>\n",
       "    .dataframe tbody tr th:only-of-type {\n",
       "        vertical-align: middle;\n",
       "    }\n",
       "\n",
       "    .dataframe tbody tr th {\n",
       "        vertical-align: top;\n",
       "    }\n",
       "\n",
       "    .dataframe thead th {\n",
       "        text-align: right;\n",
       "    }\n",
       "</style>\n",
       "<table border=\"1\" class=\"dataframe\">\n",
       "  <thead>\n",
       "    <tr style=\"text-align: right;\">\n",
       "      <th></th>\n",
       "      <th>patient_age</th>\n",
       "      <th>operation_year</th>\n",
       "      <th>nb_positive_node</th>\n",
       "      <th>Class</th>\n",
       "    </tr>\n",
       "  </thead>\n",
       "  <tbody>\n",
       "    <tr>\n",
       "      <td>0</td>\n",
       "      <td>30</td>\n",
       "      <td>64</td>\n",
       "      <td>1</td>\n",
       "      <td>1</td>\n",
       "    </tr>\n",
       "    <tr>\n",
       "      <td>1</td>\n",
       "      <td>30</td>\n",
       "      <td>62</td>\n",
       "      <td>3</td>\n",
       "      <td>1</td>\n",
       "    </tr>\n",
       "    <tr>\n",
       "      <td>2</td>\n",
       "      <td>30</td>\n",
       "      <td>65</td>\n",
       "      <td>0</td>\n",
       "      <td>1</td>\n",
       "    </tr>\n",
       "    <tr>\n",
       "      <td>3</td>\n",
       "      <td>31</td>\n",
       "      <td>59</td>\n",
       "      <td>2</td>\n",
       "      <td>1</td>\n",
       "    </tr>\n",
       "    <tr>\n",
       "      <td>4</td>\n",
       "      <td>31</td>\n",
       "      <td>65</td>\n",
       "      <td>4</td>\n",
       "      <td>1</td>\n",
       "    </tr>\n",
       "  </tbody>\n",
       "</table>\n",
       "</div>"
      ],
      "text/plain": [
       "   patient_age  operation_year  nb_positive_node  Class\n",
       "0           30              64                 1      1\n",
       "1           30              62                 3      1\n",
       "2           30              65                 0      1\n",
       "3           31              59                 2      1\n",
       "4           31              65                 4      1"
      ]
     },
     "execution_count": 15,
     "metadata": {},
     "output_type": "execute_result"
    }
   ],
   "source": [
    "url = \"./haberman.data\"\n",
    "\n",
    "# Assign colum names to the dataset\n",
    "names = ['patient_age', 'operation_year', 'nb_positive_node', 'Class']\n",
    "\n",
    "# Read dataset to pandas dataframe\n",
    "dataset = pd.read_csv(url, names=names)\n",
    "\n",
    "# display example data\n",
    "dataset.head()"
   ]
  },
  {
   "cell_type": "code",
   "execution_count": 25,
   "metadata": {},
   "outputs": [
    {
     "name": "stdout",
     "output_type": "stream",
     "text": [
      "training data size:  (244, 3)\n",
      "testt data size:  (62, 3)\n"
     ]
    }
   ],
   "source": [
    "# split features and labels\n",
    "X = dataset.iloc[:, :-1].values\n",
    "y = dataset.iloc[:, -1].values\n",
    "\n",
    "# split training and test data\n",
    "X_train, X_test, y_train, y_test = train_test_split(X, y, random_state=42,\n",
    "stratify=y, test_size=0.2)\n",
    "\n",
    "print('training data size: ', X_train.shape)\n",
    "print('test data size: ', X_test.shape)"
   ]
  },
  {
   "cell_type": "code",
   "execution_count": 20,
   "metadata": {},
   "outputs": [],
   "source": [
    "def winner_from_dict(pseudo_dict, k):\n",
    "    \"\"\"\n",
    "    returns winner from sorted pseudo-dict, for example:\n",
    "\n",
    "    winner_from_dict(\n",
    "    [(4.898979485566356, 1), (5.916079783099616, 1), (6.708203932499369, 1),\n",
    "    (6.782329983125268, 1), (7.280109889280518, 1), (8.12403840463596, 1),\n",
    "    (8.12403840463596, 1), (8.602325267042627, 2), (8.94427190999916, 2),\n",
    "    (9.0, 2), (9.055385138137417, 1), ...] , 8)\n",
    "\n",
    "    returns 1.\n",
    "\n",
    "    Args:\n",
    "        pseudo_dict (list):\n",
    "        k:\n",
    "    Returns:\n",
    "        winner_class (int): class with most occurrence in sorted distance dict\n",
    "    \"\"\"\n",
    "    sorted_tuple_list = Sort(pseudo_dict)  # min to max euclidean distance\n",
    "    pool = []\n",
    "    for i in range(k):\n",
    "        current_couple = sorted_tuple_list[k]\n",
    "        candidate = current_couple[1]\n",
    "        pool.append(candidate)\n",
    "    winner_class = max(set(pool), key=pool.count)\n",
    "\n",
    "    return winner_class\n",
    "\n",
    "def Sort(tup):\n",
    "    return(sorted(tup, key = lambda x: float(x[0])))"
   ]
  },
  {
   "cell_type": "code",
   "execution_count": 23,
   "metadata": {},
   "outputs": [
    {
     "name": "stdout",
     "output_type": "stream",
     "text": [
      "Normalized confusion matrix\n",
      "[[0.7826087 0.2173913]\n",
      " [0.4375    0.5625   ]]\n"
     ]
    },
    {
     "data": {
      "image/png": "[encoded data removed]",
      "text/plain": [
       "<Figure size 432x288 with 2 Axes>"
      ]
     },
     "metadata": {
      "needs_background": "light"
     },
     "output_type": "display_data"
    }
   ],
   "source": [
    "distance_list = []\n",
    "test_sample_index = 0\n",
    "# X_test = [X_test[i] for i in range(20)]\n",
    "class_list = []\n",
    "k = 100\n",
    "\n",
    "for test_sample in X_test:\n",
    "    distance_list.append([])\n",
    "    for train_data in X_train:\n",
    "        distance_list[test_sample_index].append(euclidian_distance(test_sample, train_data, 3))\n",
    "        # print(\"Distance list\", distance_list[test_sample_index])\n",
    "\n",
    "#     print(\"y_train_copy is :\", y_train)\n",
    "#     print(\"distance list before sorting is :\", distance_list[test_sample_index])\n",
    "\n",
    "    pseudo_dict = [(distance_list[test_sample_index][i], y_train[i]) for i\n",
    "                   in range(len(y_train))]\n",
    "\n",
    "    res = winner_from_dict(pseudo_dict, k)\n",
    "    # print(\"winner is\", res)\n",
    "    # print(\"for k = \", k)\n",
    "    class_list.append(res)\n",
    "    test_sample_index += 1\n",
    "\n",
    "# print(class_list)\n",
    "# print(y_test)\n",
    "\n",
    "C = confusion_matrix(y_test, class_list)\n",
    "class_names = ['Good', 'Bad']\n",
    "plot_confusion_matrix(C, classes=class_names, normalize=True,title='Normalized Confusion Matrix')\n"
   ]
  }
 ],
 "metadata": {
  "kernelspec": {
   "display_name": "Python 3",
   "language": "python",
   "name": "python3"
  },
  "language_info": {
   "codemirror_mode": {
    "name": "ipython",
    "version": 3
   },
   "file_extension": ".py",
   "mimetype": "text/x-python",
   "name": "python",
   "nbconvert_exporter": "python",
   "pygments_lexer": "ipython3",
   "version": "3.7.1"
  }
 },
 "nbformat": 4,
 "nbformat_minor": 2
}
