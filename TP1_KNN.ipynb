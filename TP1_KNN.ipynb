{
 "cells": [
  {
   "cell_type": "markdown",
   "metadata": {},
   "source": [
    "# ROB311 TP1\n",
    "**Use KNN algorithm to detect breast cancer and haberman's survival result**\n",
    "\n",
    "*Authors: Simon QUEYRUT, Zhi ZHOU*\n",
    "\n",
    "---"
   ]
  },
  {
   "cell_type": "markdown",
   "metadata": {},
   "source": [
    "## Breast cancer dataset\n",
    "\n",
    "Imported libraries are meant to smooth process for generating test sets and trains sets or display good looking confusion matrices - the algorithm is still written from scratch."
   ]
  },
  {
   "cell_type": "code",
   "execution_count": 35,
   "metadata": {},
   "outputs": [
    {
     "data": {
      "text/html": [
       "<div>\n",
       "<style scoped>\n",
       "    .dataframe tbody tr th:only-of-type {\n",
       "        vertical-align: middle;\n",
       "    }\n",
       "\n",
       "    .dataframe tbody tr th {\n",
       "        vertical-align: top;\n",
       "    }\n",
       "\n",
       "    .dataframe thead th {\n",
       "        text-align: right;\n",
       "    }\n",
       "</style>\n",
       "<table border=\"1\" class=\"dataframe\">\n",
       "  <thead>\n",
       "    <tr style=\"text-align: right;\">\n",
       "      <th></th>\n",
       "      <th>radius</th>\n",
       "      <th>texture</th>\n",
       "      <th>perimeter</th>\n",
       "      <th>area</th>\n",
       "      <th>smoothness</th>\n",
       "      <th>compactness</th>\n",
       "      <th>concavity</th>\n",
       "      <th>concave points</th>\n",
       "      <th>symmetry</th>\n",
       "      <th>Class</th>\n",
       "    </tr>\n",
       "  </thead>\n",
       "  <tbody>\n",
       "    <tr>\n",
       "      <th>1000025</th>\n",
       "      <td>5</td>\n",
       "      <td>1</td>\n",
       "      <td>1</td>\n",
       "      <td>1</td>\n",
       "      <td>2</td>\n",
       "      <td>1</td>\n",
       "      <td>3</td>\n",
       "      <td>1</td>\n",
       "      <td>1</td>\n",
       "      <td>2</td>\n",
       "    </tr>\n",
       "    <tr>\n",
       "      <th>1002945</th>\n",
       "      <td>5</td>\n",
       "      <td>4</td>\n",
       "      <td>4</td>\n",
       "      <td>5</td>\n",
       "      <td>7</td>\n",
       "      <td>10</td>\n",
       "      <td>3</td>\n",
       "      <td>2</td>\n",
       "      <td>1</td>\n",
       "      <td>2</td>\n",
       "    </tr>\n",
       "    <tr>\n",
       "      <th>1015425</th>\n",
       "      <td>3</td>\n",
       "      <td>1</td>\n",
       "      <td>1</td>\n",
       "      <td>1</td>\n",
       "      <td>2</td>\n",
       "      <td>2</td>\n",
       "      <td>3</td>\n",
       "      <td>1</td>\n",
       "      <td>1</td>\n",
       "      <td>2</td>\n",
       "    </tr>\n",
       "    <tr>\n",
       "      <th>1016277</th>\n",
       "      <td>6</td>\n",
       "      <td>8</td>\n",
       "      <td>8</td>\n",
       "      <td>1</td>\n",
       "      <td>3</td>\n",
       "      <td>4</td>\n",
       "      <td>3</td>\n",
       "      <td>7</td>\n",
       "      <td>1</td>\n",
       "      <td>2</td>\n",
       "    </tr>\n",
       "    <tr>\n",
       "      <th>1017023</th>\n",
       "      <td>4</td>\n",
       "      <td>1</td>\n",
       "      <td>1</td>\n",
       "      <td>3</td>\n",
       "      <td>2</td>\n",
       "      <td>1</td>\n",
       "      <td>3</td>\n",
       "      <td>1</td>\n",
       "      <td>1</td>\n",
       "      <td>2</td>\n",
       "    </tr>\n",
       "  </tbody>\n",
       "</table>\n",
       "</div>"
      ],
      "text/plain": [
       "         radius  texture  perimeter  area  smoothness compactness  concavity  \\\n",
       "1000025       5        1          1     1           2           1          3   \n",
       "1002945       5        4          4     5           7          10          3   \n",
       "1015425       3        1          1     1           2           2          3   \n",
       "1016277       6        8          8     1           3           4          3   \n",
       "1017023       4        1          1     3           2           1          3   \n",
       "\n",
       "         concave points  symmetry  Class  \n",
       "1000025               1         1      2  \n",
       "1002945               2         1      2  \n",
       "1015425               1         1      2  \n",
       "1016277               7         1      2  \n",
       "1017023               1         1      2  "
      ]
     },
     "execution_count": 35,
     "metadata": {},
     "output_type": "execute_result"
    }
   ],
   "source": [
    "import numpy as np\n",
    "import matplotlib.pyplot as plt\n",
    "import pandas as pd\n",
    "import operator\n",
    "import sklearn\n",
    "import itertools\n",
    "from sklearn.metrics import confusion_matrix\n",
    "from sklearn.model_selection import train_test_split\n",
    "\n",
    "# Assign colum names to the dataset\n",
    "colum_names = ['radius', 'texture', 'perimeter', 'area', 'smoothness',\n",
    "         'compactness', 'concavity', 'concave points', 'symmetry', 'Class']\n",
    "\n",
    "data_path = \"./breast-cancer-wisconsin.data\"\n",
    "\n",
    "# Read dataset to pandas dataframe\n",
    "dataset = pd.read_csv(data_path, names=colum_names)\n",
    "\n",
    "# display example data\n",
    "dataset.head()"
   ]
  },
  {
   "cell_type": "code",
   "execution_count": 36,
   "metadata": {},
   "outputs": [
    {
     "name": "stdout",
     "output_type": "stream",
     "text": [
      "training data size:  (559, 9)\n",
      "test data size:  (140, 9)\n"
     ]
    },
    {
     "data": {
      "text/plain": [
       "array([[7, 8, 3, ..., 7, 8, 2],\n",
       "       [1, 1, 1, ..., 1, 1, 1],\n",
       "       [5, 4, 3, ..., 2, 3, 1],\n",
       "       ...,\n",
       "       [5, 1, 1, ..., 1, 1, 1],\n",
       "       [5, 2, 2, ..., 1, 3, 1],\n",
       "       [4, 1, 1, ..., 1, 1, 1]], dtype=object)"
      ]
     },
     "execution_count": 36,
     "metadata": {},
     "output_type": "execute_result"
    }
   ],
   "source": [
    "# split features and labels apart\n",
    "X = dataset.iloc[:, :-1].values\n",
    "y = dataset.iloc[:, -1].values\n",
    "\n",
    "# split up training data and test data, 80% of the data used for train and 20% used for test\n",
    "X_train, X_test, y_train, y_test = train_test_split(X, y, random_state=42, stratify=y, test_size=0.2)\n",
    "\n",
    "print('training data size: ', X_train.shape)\n",
    "X_train\n",
    "print('test data size: ', X_test.shape)\n",
    "X_test"
   ]
  },
  {
   "cell_type": "code",
   "execution_count": 37,
   "metadata": {},
   "outputs": [],
   "source": [
    "# function used for calculating euclidean distance\n",
    "def euclidian_distance(X_test, X_train, length):  \n",
    "    \"\"\"\n",
    "    Args:\n",
    "        X_test:\n",
    "        X_train:\n",
    "        length:\n",
    "\n",
    "    Returns:\n",
    "        euclidean distance \n",
    "    \"\"\"\n",
    "    distance = 0\n",
    "    for x in range(length):\n",
    "        x_test_x = X_test[x]\n",
    "        x_train_x = X_train[x]\n",
    "            \n",
    "        # missing value represented by question mark are replaced by 0:\n",
    "        if x_train_x == '?':\n",
    "            x_train_x = 0\n",
    "        if x_test_x == '?':\n",
    "            x_test_x = 0\n",
    "        distance += np.square(int(x_test_x) - int(x_train_x))\n",
    "    return np.sqrt(distance)"
   ]
  },
  {
   "cell_type": "markdown",
   "metadata": {},
   "source": [
    "\n",
    "The `winner_from_dict` function returns the class with most occurrences among shortest distances:"
   ]
  },
  {
   "cell_type": "code",
   "execution_count": 38,
   "metadata": {},
   "outputs": [],
   "source": [
    "def winner_from_dict(pseudo_dict, k):\n",
    "    \"\"\"returns winner from sorted pseudo-dict, for example:\n",
    "\n",
    "    winner_from_dict(\n",
    "    [(4.898979485566356, 1), (5.916079783099616, 1), (6.708203932499369, 1),\n",
    "    (6.782329983125268, 1), (7.280109889280518, 1), (8.12403840463596, 1),\n",
    "    (8.12403840463596, 1), (8.602325267042627, 2), (8.94427190999916, 2),\n",
    "    (9.0, 2), (9.055385138137417, 1), ...] , 8)\n",
    "\n",
    "    would return 1.\n",
    "\n",
    "    Args:\n",
    "        pseudo_dict (list):\n",
    "        k (int):\n",
    "    Returns:\n",
    "        winner_class (int): class with most occurrence in sorted distance \n",
    "        pseudo-dict\n",
    "    \"\"\"\n",
    "    sorted_tuple_list = Sort(pseudo_dict)  # min to max euclidean distance\n",
    "    pool = []                              # to store the k-nearest classes\n",
    "    for i in range(k):\n",
    "        current_couple = sorted_tuple_list[k]\n",
    "        candidate = current_couple[1]\n",
    "        pool.append(candidate)\n",
    "    # count and return the most frequent class\n",
    "    winner_class = max(set(pool), key=pool.count)\n",
    "    return winner_class\n",
    "\n",
    "def Sort(tup):\n",
    "    \"\"\"\n",
    "    sorts a list of tuple from min to max with respect to first argument\n",
    "    \"\"\"\n",
    "    return(sorted(tup, key = lambda x: float(x[0])))"
   ]
  },
  {
   "cell_type": "markdown",
   "metadata": {},
   "source": [
    "We may now run the algorithm:"
   ]
  },
  {
   "cell_type": "code",
   "execution_count": 39,
   "metadata": {},
   "outputs": [],
   "source": [
    "distance_list = []     # a list used to store all the distances calculated\n",
    "class_list = []        # a list used to store all predicted classification result\n",
    "K = 3                 # define K parameter\n",
    "test_sample_index = 0  # index of current test sample\n",
    "\n",
    "for test_sample in X_test:\n",
    "    distance_list.append([])\n",
    "    for train_data in X_train:\n",
    "        distance_list[test_sample_index].append(euclidian_distance(test_sample, \n",
    "                                                                   train_data, 9))\n",
    "    # pseudo_dict is basically a dict with one-key-several-values ability, since \n",
    "    # two training data of different class can be at the same distance of the\n",
    "    # test sample...\n",
    "    pseudo_dict = [(distance_list[test_sample_index][i], y_train[i]) for i\n",
    "                   in range(len(y_train))]\n",
    "\n",
    "    res = winner_from_dict(pseudo_dict, K)\n",
    "    class_list.append(res)\n",
    "    test_sample_index += 1  # we move on to the next test sample"
   ]
  },
  {
   "cell_type": "code",
   "execution_count": 40,
   "metadata": {},
   "outputs": [
    {
     "name": "stdout",
     "output_type": "stream",
     "text": [
      "Normalized confusion matrix\n",
      "[[0.9673913  0.0326087 ]\n",
      " [0.08333333 0.91666667]]\n"
     ]
    },
    {
     "data": {
      "image/png": "[encoded data removed]",
      "text/plain": [
       "<Figure size 432x288 with 2 Axes>"
      ]
     },
     "metadata": {
      "needs_background": "light"
     },
     "output_type": "display_data"
    }
   ],
   "source": [
    "# this was drawn from a website\n",
    "def plot_confusion_matrix(cm, classes,\n",
    "                          normalize=False,\n",
    "                          title='Confusion matrix',\n",
    "                          cmap=plt.cm.Blues):\n",
    "    \"\"\"\n",
    "    This function prints and plots the confusion matrix.\n",
    "    Normalization can be applied by setting `normalize=True`.\n",
    "    \"\"\"\n",
    "    if normalize:\n",
    "        cm = cm.astype('float') / cm.sum(axis=1)[:, np.newaxis]\n",
    "        print(\"Normalized confusion matrix\")\n",
    "    else:\n",
    "        print('Confusion matrix, without normalization')\n",
    "\n",
    "    print(cm)\n",
    "\n",
    "    plt.imshow(cm, interpolation='nearest', cmap=cmap)\n",
    "    plt.title(title)\n",
    "    plt.colorbar()\n",
    "    tick_marks = np.arange(len(classes))\n",
    "    plt.xticks(tick_marks, classes, rotation=45)\n",
    "    plt.yticks(tick_marks, classes)\n",
    "\n",
    "    fmt = '.2f' if normalize else 'd'\n",
    "    thresh = cm.max() / 2.\n",
    "    for i, j in itertools.product(range(cm.shape[0]), range(cm.shape[1])):\n",
    "        plt.text(j, i, format(cm[i, j], fmt),\n",
    "                 horizontalalignment=\"center\",\n",
    "                 verticalalignment='top',\n",
    "                 color=\"white\" if cm[i, j] > thresh else \"black\")\n",
    "\n",
    "    plt.tight_layout()\n",
    "\n",
    "    plt.ylabel('True label')\n",
    "    plt.xlabel('Predicted label')\n",
    "    plt.show()  \n",
    "    \n",
    "cm = confusion_matrix(y_test, class_list)\n",
    "class_names = ['Benign', 'Malignant']\n",
    "plot_confusion_matrix(cm, classes=class_names, normalize=True,\n",
    "                      title='Normalized Confusion Matrix')"
   ]
  },
  {
   "cell_type": "markdown",
   "metadata": {},
   "source": [
    "We then compute the accuracy defined by \n",
    "\n",
    "$$\\frac{TP + TN}{P+N}$$\n",
    "\n",
    "with the following snippet:\n"
   ]
  },
  {
   "cell_type": "code",
   "execution_count": 41,
   "metadata": {},
   "outputs": [
    {
     "data": {
      "text/plain": [
       "0.95"
      ]
     },
     "execution_count": 41,
     "metadata": {},
     "output_type": "execute_result"
    }
   ],
   "source": [
    "sum(1 for x,y in zip(y_test,class_list) if x == y) / len(y_test)"
   ]
  },
  {
   "cell_type": "markdown",
   "metadata": {},
   "source": [
    "The algorithm shows good performance on this dataset since we have <5% confusion probability for the first class and slightly worse for the second one. Still acceptable considering the dataset is very small."
   ]
  },
  {
   "cell_type": "markdown",
   "metadata": {},
   "source": [
    "---"
   ]
  },
  {
   "cell_type": "markdown",
   "metadata": {},
   "source": [
    "## Haberman dataset"
   ]
  },
  {
   "cell_type": "code",
   "execution_count": 42,
   "metadata": {},
   "outputs": [
    {
     "data": {
      "text/html": [
       "<div>\n",
       "<style scoped>\n",
       "    .dataframe tbody tr th:only-of-type {\n",
       "        vertical-align: middle;\n",
       "    }\n",
       "\n",
       "    .dataframe tbody tr th {\n",
       "        vertical-align: top;\n",
       "    }\n",
       "\n",
       "    .dataframe thead th {\n",
       "        text-align: right;\n",
       "    }\n",
       "</style>\n",
       "<table border=\"1\" class=\"dataframe\">\n",
       "  <thead>\n",
       "    <tr style=\"text-align: right;\">\n",
       "      <th></th>\n",
       "      <th>patient_age</th>\n",
       "      <th>operation_year</th>\n",
       "      <th>nb_positive_node</th>\n",
       "      <th>Class</th>\n",
       "    </tr>\n",
       "  </thead>\n",
       "  <tbody>\n",
       "    <tr>\n",
       "      <th>0</th>\n",
       "      <td>30</td>\n",
       "      <td>64</td>\n",
       "      <td>1</td>\n",
       "      <td>1</td>\n",
       "    </tr>\n",
       "    <tr>\n",
       "      <th>1</th>\n",
       "      <td>30</td>\n",
       "      <td>62</td>\n",
       "      <td>3</td>\n",
       "      <td>1</td>\n",
       "    </tr>\n",
       "    <tr>\n",
       "      <th>2</th>\n",
       "      <td>30</td>\n",
       "      <td>65</td>\n",
       "      <td>0</td>\n",
       "      <td>1</td>\n",
       "    </tr>\n",
       "    <tr>\n",
       "      <th>3</th>\n",
       "      <td>31</td>\n",
       "      <td>59</td>\n",
       "      <td>2</td>\n",
       "      <td>1</td>\n",
       "    </tr>\n",
       "    <tr>\n",
       "      <th>4</th>\n",
       "      <td>31</td>\n",
       "      <td>65</td>\n",
       "      <td>4</td>\n",
       "      <td>1</td>\n",
       "    </tr>\n",
       "  </tbody>\n",
       "</table>\n",
       "</div>"
      ],
      "text/plain": [
       "   patient_age  operation_year  nb_positive_node  Class\n",
       "0           30              64                 1      1\n",
       "1           30              62                 3      1\n",
       "2           30              65                 0      1\n",
       "3           31              59                 2      1\n",
       "4           31              65                 4      1"
      ]
     },
     "execution_count": 42,
     "metadata": {},
     "output_type": "execute_result"
    }
   ],
   "source": [
    "url = \"./haberman.data\"\n",
    "\n",
    "# Assign colum names to the dataset\n",
    "names = ['patient_age', 'operation_year', 'nb_positive_node', 'Class']\n",
    "\n",
    "# Read dataset to pandas dataframe\n",
    "dataset = pd.read_csv(url, names=names)\n",
    "\n",
    "# display example data\n",
    "dataset.head()"
   ]
  },
  {
   "cell_type": "code",
   "execution_count": 43,
   "metadata": {},
   "outputs": [
    {
     "name": "stdout",
     "output_type": "stream",
     "text": [
      "training data size:  (244, 3)\n",
      "test data size:  (62, 3)\n"
     ]
    }
   ],
   "source": [
    "# split features and labels\n",
    "X = dataset.iloc[:, :-1].values\n",
    "y = dataset.iloc[:, -1].values\n",
    "\n",
    "# split training and test data\n",
    "X_train, X_test, y_train, y_test = train_test_split(X, y, random_state=42,\n",
    "stratify=y, test_size=0.2)\n",
    "\n",
    "# print training data and test data sizes\n",
    "print('training data size: ', X_train.shape)\n",
    "print('test data size: ', X_test.shape)"
   ]
  },
  {
   "cell_type": "markdown",
   "metadata": {},
   "source": [
    "let us run the algorithm and compute the confusion matrix:"
   ]
  },
  {
   "cell_type": "code",
   "execution_count": 44,
   "metadata": {
    "scrolled": true
   },
   "outputs": [
    {
     "name": "stdout",
     "output_type": "stream",
     "text": [
      "Normalized confusion matrix\n",
      "[[0.84782609 0.15217391]\n",
      " [0.6875     0.3125    ]]\n"
     ]
    },
    {
     "data": {
      "image/png": "[encoded data removed]",
      "text/plain": [
       "<Figure size 432x288 with 2 Axes>"
      ]
     },
     "metadata": {
      "needs_background": "light"
     },
     "output_type": "display_data"
    }
   ],
   "source": [
    "distance_list = []     # a list used to store all the distances calculated\n",
    "class_list = []        # a list used to store all predicted classification result\n",
    "K = 4                  # define K parameter\n",
    "test_sample_index = 0  # index of current test sample\n",
    "\n",
    "for test_sample in X_test:\n",
    "    distance_list.append([])\n",
    "    for train_data in X_train:\n",
    "        distance_list[test_sample_index].append(euclidian_distance(test_sample,\n",
    "                                                                   train_data, 3))\n",
    "    # pseudo_dict is basically a dict with one-key-several-values ability, since \n",
    "    # two training data of different class can be at the same distance of the\n",
    "    # test sample...\n",
    "    pseudo_dict = [(distance_list[test_sample_index][i], y_train[i]) for i\n",
    "                   in range(len(y_train))]\n",
    "\n",
    "    res = winner_from_dict(pseudo_dict, K)\n",
    "    class_list.append(res)\n",
    "    test_sample_index += 1\n",
    "\n",
    "C = confusion_matrix(y_test, class_list)\n",
    "class_names = ['5 year + survival', 'Died within 5 years']\n",
    "plot_confusion_matrix(C, classes=class_names, normalize=True,\n",
    "                      title='Normalized Confusion Matrix')\n"
   ]
  },
  {
   "cell_type": "markdown",
   "metadata": {},
   "source": [
    "and then the accuracy:"
   ]
  },
  {
   "cell_type": "code",
   "execution_count": 45,
   "metadata": {},
   "outputs": [
    {
     "data": {
      "text/plain": [
       "0.7096774193548387"
      ]
     },
     "execution_count": 45,
     "metadata": {},
     "output_type": "execute_result"
    }
   ],
   "source": [
    "sum(1 for x,y in zip(y_test,class_list) if x == y) / len(y_test)"
   ]
  },
  {
   "cell_type": "markdown",
   "metadata": {},
   "source": [
    "The algorithm shows bad performance with Haberman dataset since there is more than 0.5 probability to mislabel a sample that corresponds to the *Died within 5 years* feature.\n",
    "It may be due to the fact that:\n",
    " - the dataset is small;\n",
    " - there are too few features;\n",
    " - some features may be less significant for the training (e.g. maybe the year of operation is not that important considering improvements on surgical techniques take several decades to display significant evolutions)\n",
    " \n",
    "The first dataset had twice as many data and had many more carefully selected physical features, thus the algorithm had better performance."
   ]
  },
  {
   "cell_type": "markdown",
   "metadata": {},
   "source": [
    "However, it does deliver correct output for the *5 years + survival* feature with <16% error probability, still acceptable for small dataset."
   ]
  },
  {
   "cell_type": "markdown",
   "metadata": {},
   "source": [
    "## Conclusion\n",
    "We used our from-scratch implementation of k-NN algorithm on two datasets."
   ]
  },
  {
   "cell_type": "markdown",
   "metadata": {},
   "source": [
    "- For the first dataset (breast cancer), the algorithm outputs good results (95% accuracy, <3% error probability for the first class and <10% for the second one). \n",
    "- For the second dataset (Haberman survival), the algorithm behaves correctly for the first feature but badly for the second one (*Died within 5 years*) with an overall accuracy of 71%.\n",
    "- Each time we chose the value for k that gave the best results, namely 3 and 4."
   ]
  },
  {
   "cell_type": "code",
   "execution_count": null,
   "metadata": {},
   "outputs": [],
   "source": []
  }
 ],
 "metadata": {
  "kernelspec": {
   "display_name": "Python 3",
   "language": "python",
   "name": "python3"
  },
  "language_info": {
   "codemirror_mode": {
    "name": "ipython",
    "version": 3
   },
   "file_extension": ".py",
   "mimetype": "text/x-python",
   "name": "python",
   "nbconvert_exporter": "python",
   "pygments_lexer": "ipython3",
   "version": "3.7.1"
  }
 },
 "nbformat": 4,
 "nbformat_minor": 2
}
